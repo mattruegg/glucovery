{
 "cells": [
  {
   "cell_type": "code",
   "execution_count": 3,
   "metadata": {},
   "outputs": [],
   "source": [
    "import requests\n",
    "import os\n",
    "import json"
   ]
  },
  {
   "cell_type": "code",
   "execution_count": 9,
   "metadata": {},
   "outputs": [],
   "source": [
    "food_breakdown_url = \"https://food-nutrition.canada.ca/api/canadian-nutrient-file/nutrientamount/?type=json&lang=en\"\n",
    "# nutrient_url = \"https://food-nutrition.canada.ca/api/canadian-nutrient-file/nutrientname/\"\n",
    "lang = 'en'\n",
    "data_type = \"json\"\n",
    "context = {\"lang\": lang, \"type\": data_type, \"id\": 4}"
   ]
  },
  {
   "cell_type": "code",
   "execution_count": 25,
   "metadata": {},
   "outputs": [],
   "source": [
    "# Write CNF json data to disk\n",
    "file_path = os.path.join(\"..\", \"data\", \"nutrient_amount.json\")\n",
    "res = requests.get(food_breakdown_url, params=context)\n",
    "if res.ok:\n",
    "    with open(file_path, 'wb') as file:\n",
    "        file.write(res.content)"
   ]
  },
  {
   "cell_type": "code",
   "execution_count": 26,
   "metadata": {},
   "outputs": [
    {
     "name": "stdout",
     "output_type": "stream",
     "text": [
      "<class 'list'> <class 'dict'>\n"
     ]
    }
   ],
   "source": [
    "# with open(file_path, 'rb') as file:\n",
    "#     data = json.load(file)\n",
    "#     print(type(data), type(data[0]))"
   ]
  }
 ],
 "metadata": {
  "kernelspec": {
   "display_name": "base",
   "language": "python",
   "name": "python3"
  },
  "language_info": {
   "codemirror_mode": {
    "name": "ipython",
    "version": 3
   },
   "file_extension": ".py",
   "mimetype": "text/x-python",
   "name": "python",
   "nbconvert_exporter": "python",
   "pygments_lexer": "ipython3",
   "version": "3.10.8"
  },
  "orig_nbformat": 4,
  "vscode": {
   "interpreter": {
    "hash": "c56a09ff516e592f261d9b0ea00a8f1ff789461f98c524dfae47d1f38056168a"
   }
  }
 },
 "nbformat": 4,
 "nbformat_minor": 2
}
